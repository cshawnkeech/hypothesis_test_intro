{
 "cells": [
  {
   "cell_type": "markdown",
   "metadata": {},
   "source": [
    "# Hypothesis Testing: Binomial Testing\n"
   ]
  },
  {
   "cell_type": "markdown",
   "metadata": {},
   "source": [
    "Notes (Hook):\n",
    "\n",
    "Anyone here put milk in your tea? Is this a popular thing to do in\n",
    "Canada? My family usually doesn't put milk in our tea, but there's a\n",
    "pretty famous scenario from statistics that goes something like this.\n"
   ]
  },
  {
   "cell_type": "markdown",
   "metadata": {},
   "source": [
    "## Scenario\n",
    "\n",
    "It's the 1920's and Ron and Muriel are coworkers. Muriel swears that when\n",
    "she drinks tea and milk together, she can taste whether the milk was\n",
    "poured in first or second (and she prefers the milk go in first in her\n",
    "tea).\n",
    "\n",
    "Ron is unconvinced (he thinks it shouldn't matter at all what order the\n",
    "tea and milk enter the cup).\n",
    "\n",
    "What kind of proof could satisfy Ron's skepticism?\n"
   ]
  },
  {
   "cell_type": "markdown",
   "metadata": {},
   "source": [
    "## Objectives\n",
    "\n",
    "- Formulate a binomial hypothesis test\n",
    "- Recognize situations where the binomial distribution is applicable\n",
    "- Define the significance level ($ \\alpha $) and its role in hypothesis\n",
    "  testing\n",
    "- See how\n"
   ]
  },
  {
   "cell_type": "markdown",
   "metadata": {},
   "source": [
    "Notes:\n",
    "\n",
    "We'll be putting distributions we've learned about to work, especially\n",
    "the binomial and normal distributions.\n",
    "\n",
    "We'll also be leveraging `scipy.stats` to help us out with many of the\n",
    "calculations.\n",
    "\n",
    "We'll also be taking a few liberties with the historic situation. At the\n",
    "end, I'll leave some links to some lovely articles that describe more\n",
    "fully the original scenario.\n"
   ]
  },
  {
   "cell_type": "code",
   "execution_count": null,
   "metadata": {},
   "outputs": [],
   "source": []
  },
  {
   "cell_type": "markdown",
   "metadata": {},
   "source": [
    "## For further reading\n",
    "\n",
    "- [Ronald Fisher, a Bad Cup of Tea, and the Birth of Modern Statistics |\n",
    "  Science History\n",
    "  Institute](https://sciencehistory.org/stories/magazine/ronald-fisher-a-bad-cup-of-tea-and-the-birth-of-modern-statistics/)\n",
    "\n",
    "- [Tea for three: Of infusions and inferences and milk in first - Senn -\n",
    "  2012 - Significance - Wiley Online\n",
    "  Library](https://rss.onlinelibrary.wiley.com/doi/full/10.1111/j.1740-9713.2012.00620.x)\n"
   ]
  }
 ],
 "metadata": {
  "language_info": {
   "name": "python"
  }
 },
 "nbformat": 4,
 "nbformat_minor": 2
}

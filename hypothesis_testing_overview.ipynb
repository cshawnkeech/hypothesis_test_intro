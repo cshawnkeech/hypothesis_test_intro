{
 "cells": [
  {
   "cell_type": "markdown",
   "metadata": {},
   "source": [
    "# Hypothesis Testing: Binomial Testing\n"
   ]
  },
  {
   "cell_type": "markdown",
   "metadata": {},
   "source": [
    "Notes (Hook):\n",
    "\n",
    "Anyone here put milk in your tea? Is this a popular thing to do in\n",
    "Canada? My family usually doesn't put milk in our tea, but there's a\n",
    "pretty famous scenario from statistics that goes something like this.\n"
   ]
  },
  {
   "cell_type": "markdown",
   "metadata": {},
   "source": [
    "## Scenario\n",
    "\n",
    "It's the 1920's and Ron and Muriel are coworkers. Muriel swears that when\n",
    "she drinks tea and milk together, she can taste whether the milk was\n",
    "poured in first or second (and she prefers the milk go in first in her\n",
    "tea).\n",
    "\n",
    "Ron is unconvinced (he thinks it shouldn't matter at all what order the\n",
    "tea and milk enter the cup).\n",
    "\n",
    "What kind of proof could satisfy Ron's skepticism?\n"
   ]
  },
  {
   "cell_type": "code",
   "execution_count": null,
   "metadata": {},
   "outputs": [],
   "source": []
  }
 ],
 "metadata": {
  "language_info": {
   "name": "python"
  }
 },
 "nbformat": 4,
 "nbformat_minor": 2
}

{
 "cells": [
  {
   "cell_type": "code",
   "execution_count": null,
   "metadata": {
    "slideshow": {
     "slide_type": "skip"
    }
   },
   "outputs": [],
   "source": [
    "# autoreload\n",
    "%load_ext autoreload\n",
    "%autoreload 2\n",
    "\n",
    "# add src to path\n",
    "import sys\n",
    "\n",
    "# path relative to your notebook\n",
    "sys.path.insert(0, '../src')"
   ]
  },
  {
   "cell_type": "markdown",
   "metadata": {
    "slideshow": {
     "slide_type": "slide"
    }
   },
   "source": [
    "# Hypothesis Testing: Binomial Testing\n"
   ]
  },
  {
   "cell_type": "markdown",
   "metadata": {
    "slideshow": {
     "slide_type": "notes"
    }
   },
   "source": [
    "Notes (Hook):\n",
    "\n",
    "Anyone here put milk in your tea? Is this a popular thing to do in\n",
    "Canada? My family usually doesn't put milk in our tea, but there's a\n",
    "pretty famous scenario from statistics that goes something like this.\n"
   ]
  },
  {
   "cell_type": "markdown",
   "metadata": {
    "slideshow": {
     "slide_type": "slide"
    }
   },
   "source": [
    "## Scenario\n",
    "\n",
    "It's the 1920's and Ron and Muriel are coworkers. Muriel swears that when\n",
    "she drinks tea and milk together, she can taste whether the milk was\n",
    "poured in first or second (and she prefers the milk go in first in her\n",
    "tea).\n",
    "\n",
    "Ron is unconvinced (he thinks it shouldn't matter at all what order the\n",
    "tea and milk enter the cup).\n",
    "\n",
    "What kind of proof could satisfy Ron's skepticism?\n"
   ]
  },
  {
   "cell_type": "markdown",
   "metadata": {
    "slideshow": {
     "slide_type": "slide"
    }
   },
   "source": [
    "## Objectives\n",
    "\n",
    "- Recognize situations where the binomial distribution is applicable\n",
    "- Design a hypothesis test using a binomial distribution\n",
    "- Formulate null and alternative hypotheses\n",
    "- Define the significance level ($ \\alpha $) and its role in hypothesis\n",
    "  testing\n",
    "- Observe how the number of trials and the alpha interact\n"
   ]
  },
  {
   "cell_type": "markdown",
   "metadata": {
    "slideshow": {
     "slide_type": "notes"
    }
   },
   "source": [
    "Notes:\n",
    "\n",
    "For the next 20 minutes or so, we'll be looking at Hypothesis testing,\n",
    "specifically setting up a question so that we can put the binomial\n",
    "distribution to work for us.\n",
    "\n",
    "We'll also be leveraging `scipy.stats` to help us out with many of the\n",
    "calculations.\n",
    "\n",
    "We'll also be taking a few liberties with the historic situation. At the\n",
    "end, I'll leave some links to some lovely articles that describe more\n",
    "fully the original scenario.\n"
   ]
  },
  {
   "cell_type": "markdown",
   "metadata": {
    "slideshow": {
     "slide_type": "slide"
    }
   },
   "source": [
    "## Choose a distribution that describes the situation\n"
   ]
  },
  {
   "cell_type": "markdown",
   "metadata": {
    "slideshow": {
     "slide_type": "notes"
    }
   },
   "source": [
    "Notes:\n",
    "\n",
    "We need a model that can help us quantify our judgement about the\n",
    "situation.\n",
    "\n",
    "You could make the assumption that each cup is like a Bernoulli trial.\n",
    "\n",
    "If we assume that Muriel does no better than chance, then Muriel\n",
    "correctly identifying a single teacup is kind of like flipping a single\n",
    "fair coin and guessing correctly. She could have just made a single lucky\n",
    "guess.\n",
    "\n",
    "Which distribution would describe multiple Bernoulli trials?\n",
    "\n",
    "The binomial distribution.\n"
   ]
  },
  {
   "cell_type": "markdown",
   "metadata": {},
   "source": [
    "..\n"
   ]
  },
  {
   "cell_type": "markdown",
   "metadata": {
    "slideshow": {
     "slide_type": "slide"
    }
   },
   "source": [
    "## Forming Hypothesis Statements\n",
    "\n",
    "Are there the two mutually-exclusive possible outcomes in the tea-debate?\n",
    "\n",
    "What could they be?\n"
   ]
  },
  {
   "cell_type": "code",
   "execution_count": null,
   "metadata": {},
   "outputs": [],
   "source": [
    "# two mutually-exclusive possibilities\n",
    "# muriel is guessing \n",
    "# muriel can do better than guessing"
   ]
  },
  {
   "cell_type": "markdown",
   "metadata": {
    "slideshow": {
     "slide_type": "notes"
    }
   },
   "source": [
    "notes:\n",
    "\n",
    "The first question we should probably ask is does this scenario lend\n",
    "itself to a hypothesis test?\n",
    "\n",
    "- That muriel can actually tell a difference\n",
    "\n",
    "- That if things were randomized and Muriel had to rely on taste alone,\n",
    "  Muriel would do no better than chance.\n"
   ]
  },
  {
   "cell_type": "markdown",
   "metadata": {
    "slideshow": {
     "slide_type": "subslide"
    }
   },
   "source": [
    "### The Null Hypothesis\n",
    "\n",
    "This is the skeptic's position. Your test will assume that this position\n",
    "is correct and seek evidence to refute it.\n",
    "\n",
    "When written in math terms, the null contains the equals sign, whether\n",
    "$=$, $\\ge$, or $\\le$.\n",
    "\n",
    "How can we phrase the skeptic's position (that Muriel does no better than\n",
    "chance) in a mathematical way?\n"
   ]
  },
  {
   "cell_type": "markdown",
   "metadata": {},
   "source": [
    "$H_0: p \\le .5$\n"
   ]
  },
  {
   "cell_type": "markdown",
   "metadata": {
    "slideshow": {
     "slide_type": "subslide"
    }
   },
   "source": [
    "### The Alternate Hypothesis\n",
    "\n",
    "This is the the position where something new is discovered. This\n",
    "statement and the null hypothesis will be mutually exclusive.\n",
    "\n",
    "How can we phrase this in a formal way?\n"
   ]
  },
  {
   "cell_type": "markdown",
   "metadata": {},
   "source": [
    "$H_a$: p > 0.5\n"
   ]
  },
  {
   "cell_type": "markdown",
   "metadata": {
    "slideshow": {
     "slide_type": "slide"
    }
   },
   "source": [
    "## Significance level ($\\alpha$)\n",
    "\n",
    "How much proof do we need to reject the null in favor of the alternate?\n"
   ]
  },
  {
   "cell_type": "markdown",
   "metadata": {
    "slideshow": {
     "slide_type": "notes"
    }
   },
   "source": [
    "Notes:\n",
    "\n",
    "Just how much proof do we need before we decide that Muriel is doing\n",
    "better than chance? What if the result was only attainable by chance 5\n",
    "percent of the time?\n",
    "\n",
    "That does mean that there is a 5% chance we're using evidence to reject\n",
    "the null that could have been only chance. This 5% is often used, but\n",
    "depending on the industry and application, you may see 1% or even .01%.\n"
   ]
  },
  {
   "cell_type": "markdown",
   "metadata": {
    "slideshow": {
     "slide_type": "slide"
    }
   },
   "source": [
    "## Running the test with `scipy.stats`\n"
   ]
  },
  {
   "cell_type": "markdown",
   "metadata": {},
   "source": [
    "- [scipy.stats.binomtest — SciPy v1.11.4\n",
    "  Manual](https://docs.scipy.org/doc/scipy/reference/generated/scipy.stats.binomtest.html)\n"
   ]
  },
  {
   "cell_type": "code",
   "execution_count": 1,
   "metadata": {
    "slideshow": {
     "slide_type": "subslide"
    }
   },
   "outputs": [
    {
     "name": "stdout",
     "output_type": "stream",
     "text": [
      "BinomTestResult(k=8, n=8, alternative='greater', statistic=1.0, pvalue=0.00390625)\n"
     ]
    }
   ],
   "source": [
    "from scipy.stats import binomtest\n",
    "\n",
    "null_prob = 0.5\n",
    "trials = 8\n",
    "accurate_predictions = 8\n",
    "alpha = 0.05\n",
    "\n",
    "\n",
    "muriel_result = binomtest(\n",
    "    k=accurate_predictions,\n",
    "    n=trials,\n",
    "    p=null_prob,\n",
    "    alternative=\"greater\")  # alternate: p should be greater than chance (0.5)\n",
    "\n",
    "print(muriel_result)\n",
    "\n",
    "# test statistic is equal to the estimated proportion\n",
    "# print(accurate_predictions/trials)"
   ]
  },
  {
   "cell_type": "markdown",
   "metadata": {
    "slideshow": {
     "slide_type": "slide"
    }
   },
   "source": [
    "## How many cups must Muriel predict accurately?\n"
   ]
  },
  {
   "cell_type": "markdown",
   "metadata": {
    "slideshow": {
     "slide_type": "notes"
    }
   },
   "source": [
    "Notes:\n",
    "\n",
    "You should have some intuition that the more cups Muriel predicts accurately, the more evidence we gather that she's not just doing it by chance. So the more trials, the better.\n",
    "\n",
    "But it should raise a few more questions. In the real world there are limitations to how many trials or samples we can gather. Perhaps there's only so much milk (or tea), or time to drink it, or Muriel can only stomach so much tea without becoming queasy.\n",
    "\n",
    "There's also a question of what happens if Muriel misses one?\n",
    "\n",
    "There should also be an intuition that missing one out of 50 trials wouldn't be as big of a deal as missing one out of trials.\n",
    "\n",
    "How many cups must Muriel predict in order to bring enough evidence that\n",
    "we would believe she's doing better than chance?\n",
    "\n",
    "Let's look at a brute-force method to examine the situation more closely.\n"
   ]
  },
  {
   "cell_type": "code",
   "execution_count": 2,
   "metadata": {
    "slideshow": {
     "slide_type": "subslide"
    }
   },
   "outputs": [
    {
     "name": "stdout",
     "output_type": "stream",
     "text": [
      "For 8 trials\n",
      "accurate\tp_value\n",
      "0 \t\t 1.0\n",
      "1 \t\t 0.99609375\n",
      "2 \t\t 0.96484375\n",
      "3 \t\t 0.85546875\n",
      "4 \t\t 0.63671875\n",
      "5 \t\t 0.36328125\n",
      "6 \t\t 0.14453125\n",
      "7 \t\t 0.03515625\n",
      "Critical value: 7\n",
      "\tMuriel must accurately identify at least 7 cups\n",
      "\tin order to demonstrate significance.\n",
      "8 \t\t 0.00390625\n"
     ]
    }
   ],
   "source": [
    "# custom function\n",
    "from src.binom_demo import crit_value\n",
    "\n",
    "crit_value(trials)"
   ]
  },
  {
   "cell_type": "markdown",
   "metadata": {
    "slideshow": {
     "slide_type": "slide"
    }
   },
   "source": [
    "## A Brief Aside\n",
    "\n",
    "You can also use `scipy.stats.binom` to do this job\n",
    "\n",
    "Documentation\n",
    "\n",
    "- [scipy.stats.binom — SciPy v1.11.4\n",
    "  Manual](https://docs.scipy.org/doc/scipy/reference/generated/scipy.stats.binom.html)\n"
   ]
  },
  {
   "cell_type": "code",
   "execution_count": 3,
   "metadata": {
    "slideshow": {
     "slide_type": "subslide"
    }
   },
   "outputs": [
    {
     "name": "stdout",
     "output_type": "stream",
     "text": [
      "0.00390625\n",
      "BinomTestResult(k=8, n=8, alternative='greater', statistic=1.0, pvalue=0.00390625)\n"
     ]
    }
   ],
   "source": [
    "import numpy as np\n",
    "from scipy.stats import binom\n",
    "\n",
    "# print(f\"trials = {trials}\")\n",
    "# print(f\"accurate_predictions = {accurate_predictions}\")\n",
    "# print(f\"alpha = {alpha}\")\n",
    "# print(f\"null_prob = {null_prob}\\n\")\n",
    "\n",
    "guessing_dist = binom(n=trials, p=null_prob)\n",
    "\n",
    "# the probability mass of randomly guessing this many or more\n",
    "print(guessing_dist.pmf(accurate_predictions)\n",
    "      + guessing_dist.sf(accurate_predictions))\n",
    "\n",
    "# muriel_result = binomtest(\n",
    "#     k=accurate_predictions,\n",
    "#     n=trials,\n",
    "#     p=null_prob,\n",
    "#     alternative=\"greater\")\n",
    "\n",
    "print(muriel_result)"
   ]
  },
  {
   "cell_type": "markdown",
   "metadata": {
    "slideshow": {
     "slide_type": "slide"
    }
   },
   "source": [
    "## Thinking through scenarios\n"
   ]
  },
  {
   "cell_type": "markdown",
   "metadata": {
    "slideshow": {
     "slide_type": "slide"
    }
   },
   "source": [
    "### Scenario 1\n",
    "\n",
    "Three siblings decide to randomly select who has to do a chore around the\n",
    "house each day. After 5 days, the eldest sibling still hasn't been\n",
    "selected for a chore. The other two siblings are starting to get\n",
    "suspicious. What does a hypothesis test say about the situation?\n"
   ]
  },
  {
   "cell_type": "code",
   "execution_count": 5,
   "metadata": {},
   "outputs": [
    {
     "name": "stdout",
     "output_type": "stream",
     "text": [
      "BinomTestResult(k=0, n=10, alternative='less', statistic=0.0, pvalue=0.01734152991583262)\n"
     ]
    }
   ],
   "source": [
    "sibling_result = binomtest(\n",
    "    k=0,\n",
    "    n=10,\n",
    "    p=1/3,\n",
    "    alternative='less')\n",
    "\n",
    "print(sibling_result)\n",
    "# H_0: each sibling p>=1/3\n",
    "# H_0: one sibling is p < 1/3"
   ]
  },
  {
   "cell_type": "markdown",
   "metadata": {
    "slideshow": {
     "slide_type": "notes"
    }
   },
   "source": [
    "notes:\n",
    "\n",
    "- k=0 (no turns)\n",
    "- n=5 (5 days)\n",
    "- p=1/3 (expected probability of being chosen)\n",
    "- alternative=\"less\" (other numbers are equal to 2/3 or greater)\n",
    "\n",
    "The alternative is sibling has less of a chance of getting chosen than they say.\n",
    "\n",
    "What if they still haven't had a turn after 10 days?\n"
   ]
  },
  {
   "cell_type": "markdown",
   "metadata": {
    "slideshow": {
     "slide_type": "slide"
    }
   },
   "source": [
    "## Scenario 2\n",
    "\n",
    "A company claims their new advertising strategy has increased the\n",
    "click-through rate on their website to 10%. You collect a sample of 150\n",
    "website visits and find that 13 of them resulted in a click.\n",
    "\n",
    "You want to test whether the click-through rate is different from the\n",
    "claimed 10%.\n"
   ]
  },
  {
   "cell_type": "code",
   "execution_count": null,
   "metadata": {},
   "outputs": [],
   "source": [
    "click_through = None\n",
    "\n",
    "click_through"
   ]
  },
  {
   "cell_type": "markdown",
   "metadata": {
    "slideshow": {
     "slide_type": "notes"
    }
   },
   "source": [
    "notes:\n",
    "\n",
    "null: the probability is 15%\n",
    "alternate: the probability is higher or lower than d\n",
    "\n",
    "```python\n",
    "click_through = binomtest(\n",
    "    k=15,\n",
    "    n=150,\n",
    "    p=.1,\n",
    "    alternative='two-sided')\n",
    "\n",
    "print(sibling_result)\n",
    "\n",
    "```\n"
   ]
  },
  {
   "cell_type": "markdown",
   "metadata": {
    "slideshow": {
     "slide_type": "slide"
    }
   },
   "source": [
    "## Conclusion\n",
    "\n",
    "We have:\n",
    "\n",
    "- Recognized situations where the binomial distribution is applicable\n",
    "- Designed a hypothesis test using a binomial distribution\n",
    "- Formulate null and alternative hypotheses\n",
    "- Define the significance level ($ \\alpha $) and its role in hypothesis\n",
    "  testing\n",
    "- Observe how the number of trials and the alpha interact\n"
   ]
  },
  {
   "cell_type": "markdown",
   "metadata": {
    "slideshow": {
     "slide_type": "slide"
    }
   },
   "source": [
    "## Looking Forwards\n",
    "\n",
    "- Look at situations where the Hypothesis test calls for other\n",
    "  distributions\n",
    "- Review the central limit theorem\n",
    "  - specifically how the CLM enables us to use the normal distribution\n",
    "    for many sample-based hypothesis tests\n",
    "- Review `scipy.stats.norm`\n",
    "- Calculate power\n",
    "- Calculate sample size\n"
   ]
  },
  {
   "cell_type": "markdown",
   "metadata": {
    "slideshow": {
     "slide_type": "slide"
    }
   },
   "source": [
    "## For further reading\n",
    "\n",
    "- [Ronald Fisher, a Bad Cup of Tea, and the Birth of Modern Statistics |\n",
    "  Science History\n",
    "  Institute](https://sciencehistory.org/stories/magazine/ronald-fisher-a-bad-cup-of-tea-and-the-birth-of-modern-statistics/)\n",
    "\n",
    "- [Tea for three: Of infusions and inferences and milk in first - Senn -\n",
    "  2012 - Significance - Wiley Online\n",
    "  Library](https://rss.onlinelibrary.wiley.com/doi/full/10.1111/j.1740-9713.2012.00620.x)\n"
   ]
  }
 ],
 "metadata": {
  "celltoolbar": "Slideshow",
  "kernelspec": {
   "display_name": "Python 3 (ipykernel)",
   "language": "python",
   "name": "python3"
  },
  "language_info": {
   "codemirror_mode": {
    "name": "ipython",
    "version": 3
   },
   "file_extension": ".py",
   "mimetype": "text/x-python",
   "name": "python",
   "nbconvert_exporter": "python",
   "pygments_lexer": "ipython3",
   "version": "3.11.4"
  }
 },
 "nbformat": 4,
 "nbformat_minor": 2
}
